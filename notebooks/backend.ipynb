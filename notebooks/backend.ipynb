{
  "cells": [
    {
      "cell_type": "code",
      "execution_count": 4,
      "metadata": {
        "id": "pbQXfYyC4fDB"
      },
      "outputs": [],
      "source": [
        "import numpy as np\n",
        "import pandas as pd\n",
        "from sklearn.model_selection import train_test_split\n",
        "from sklearn.metrics import accuracy_score, classification_report, confusion_matrix\n",
        "import matplotlib.pyplot as plt\n",
        "import seaborn as sns\n"
      ]
    },
    {
      "cell_type": "code",
      "execution_count": 5,
      "metadata": {
        "id": "xv-YAi2C7JVL",
        "colab": {
          "base_uri": "https://localhost:8080/"
        },
        "outputId": "5200dd1a-c04a-4c2d-c9a3-8799484cfdf4"
      },
      "outputs": [
        {
          "output_type": "stream",
          "name": "stdout",
          "text": [
            "Mounted at /content/drive\n"
          ]
        }
      ],
      "source": [
        "from google.colab import drive\n",
        "drive.mount('/content/drive')\n"
      ]
    },
    {
      "cell_type": "code",
      "execution_count": 6,
      "metadata": {
        "id": "d5HZZyPw7xlJ"
      },
      "outputs": [],
      "source": [
        "file_path = '/content/drive/MyDrive/dataset/waterquality_1.csv'\n",
        "\n",
        "# Load your dataset\n",
        "dataset = pd.read_csv('/content/drive/MyDrive/dataset/waterquality_1.csv')\n"
      ]
    },
    {
      "cell_type": "code",
      "execution_count": 7,
      "metadata": {
        "id": "HhCdL1nD8Sjw"
      },
      "outputs": [],
      "source": [
        "# Assuming the last column is your target variable (y_train)\n",
        "y_train = dataset.iloc[:, -1]\n",
        "\n",
        "# Assuming the rest of the columns are your features (X_train)\n",
        "X_train = dataset.iloc[:, :-1]"
      ]
    },
    {
      "cell_type": "code",
      "execution_count": 8,
      "metadata": {
        "id": "GZQzDkS18skL",
        "colab": {
          "base_uri": "https://localhost:8080/",
          "height": 205
        },
        "outputId": "8424349c-1826-4c8f-dfb6-759e266a0645"
      },
      "outputs": [
        {
          "output_type": "execute_result",
          "data": {
            "text/plain": [
              "<bound method NDFrame.describe of       Station               Station Name    Year  Overall WQI     WQI FC  \\\n",
              "0      16A070    Skokomish R nr Potlatch  1996.0    87.000000  91.000000   \n",
              "1      16A070    Skokomish R nr Potlatch  1997.0    86.000000  78.000000   \n",
              "2      16A070    Skokomish R nr Potlatch  1998.0    75.000000  90.000000   \n",
              "3      16A070    Skokomish R nr Potlatch  1999.0    87.000000  88.000000   \n",
              "4      16A070    Skokomish R nr Potlatch  2000.0    95.000000  93.000000   \n",
              "...       ...                        ...     ...          ...        ...   \n",
              "15531  16C090     Duckabush R nr Brinnon  2010.0    61.998611  85.009043   \n",
              "15532  10A070   Puyallup R @ Meridian St  2009.0    65.025028  76.001007   \n",
              "15533  26B070          Cowlitz R @ Kelso  2008.0    80.042098  78.022499   \n",
              "15534  60A070        Kettle R nr Barstow  2002.0    78.982667  66.978629   \n",
              "15535  07D130  Snoqualmie R @ Snoqualmie  1998.0    93.037020  83.996407   \n",
              "\n",
              "         WQI Oxy     WQI pH    WQI TSS   WQI Temp     WQI TPN     WQI TP  \\\n",
              "0      85.000000  95.000000  78.000000  81.000000   99.000000  84.000000   \n",
              "1      84.000000  77.000000  85.000000  90.000000   99.000000  72.000000   \n",
              "2      79.000000  88.000000  61.000000  90.000000   98.000000  71.000000   \n",
              "3      80.000000  88.000000  75.000000  95.000000  100.000000  79.000000   \n",
              "4      86.000000  96.000000  84.000000  90.000000  100.000000  84.000000   \n",
              "...          ...        ...        ...        ...         ...        ...   \n",
              "15531  88.983667  91.972395  67.965260  67.989988   51.983618  58.010376   \n",
              "15532  77.983391  95.993678  77.986638  64.981338   77.003638  73.006269   \n",
              "15533  86.985420  91.003409  77.966755  77.981183   57.002512  69.010975   \n",
              "15534  88.007289  93.961715  87.010751  76.985234   67.018126  87.995762   \n",
              "15535  85.005433  96.001261  93.022406  84.032654   97.954799  90.966448   \n",
              "\n",
              "        WQI Turb                 Location 1  \n",
              "0      69.000000  POINT (-123.1771 47.3098)  \n",
              "1      80.000000  POINT (-123.1771 47.3098)  \n",
              "2      49.000000  POINT (-123.1771 47.3098)  \n",
              "3      71.000000  POINT (-123.1771 47.3098)  \n",
              "4      87.000000  POINT (-123.1771 47.3098)  \n",
              "...          ...                        ...  \n",
              "15531  75.004370   POINT (-123.0116 47.684)  \n",
              "15532  81.003182  POINT (-122.2937 47.2026)  \n",
              "15533  82.037574  POINT (-122.9143 46.1454)  \n",
              "15534  92.979010  POINT (-118.1253 48.7846)  \n",
              "15535  91.980318  POINT (-121.8121 47.5269)  \n",
              "\n",
              "[15536 rows x 13 columns]>"
            ],
            "text/html": [
              "<div style=\"max-width:800px; border: 1px solid var(--colab-border-color);\"><style>\n",
              "      pre.function-repr-contents {\n",
              "        overflow-x: auto;\n",
              "        padding: 8px 12px;\n",
              "        max-height: 500px;\n",
              "      }\n",
              "\n",
              "      pre.function-repr-contents.function-repr-contents-collapsed {\n",
              "        cursor: pointer;\n",
              "        max-height: 100px;\n",
              "      }\n",
              "    </style>\n",
              "    <pre style=\"white-space: initial; background:\n",
              "         var(--colab-secondary-surface-color); padding: 8px 12px;\n",
              "         border-bottom: 1px solid var(--colab-border-color);\"><b>pandas.core.generic.NDFrame.describe</b><br/>def describe(percentiles=None, include=None, exclude=None, datetime_is_numeric: bool_t=False) -&gt; NDFrameT</pre><pre class=\"function-repr-contents function-repr-contents-collapsed\" style=\"\"><a class=\"filepath\" style=\"display:none\" href=\"#\">/usr/local/lib/python3.10/dist-packages/pandas/core/generic.py</a>Generate descriptive statistics.\n",
              "\n",
              "Descriptive statistics include those that summarize the central\n",
              "tendency, dispersion and shape of a\n",
              "dataset&#x27;s distribution, excluding ``NaN`` values.\n",
              "\n",
              "Analyzes both numeric and object series, as well\n",
              "as ``DataFrame`` column sets of mixed data types. The output\n",
              "will vary depending on what is provided. Refer to the notes\n",
              "below for more detail.\n",
              "\n",
              "Parameters\n",
              "----------\n",
              "percentiles : list-like of numbers, optional\n",
              "    The percentiles to include in the output. All should\n",
              "    fall between 0 and 1. The default is\n",
              "    ``[.25, .5, .75]``, which returns the 25th, 50th, and\n",
              "    75th percentiles.\n",
              "include : &#x27;all&#x27;, list-like of dtypes or None (default), optional\n",
              "    A white list of data types to include in the result. Ignored\n",
              "    for ``Series``. Here are the options:\n",
              "\n",
              "    - &#x27;all&#x27; : All columns of the input will be included in the output.\n",
              "    - A list-like of dtypes : Limits the results to the\n",
              "      provided data types.\n",
              "      To limit the result to numeric types submit\n",
              "      ``numpy.number``. To limit it instead to object columns submit\n",
              "      the ``numpy.object`` data type. Strings\n",
              "      can also be used in the style of\n",
              "      ``select_dtypes`` (e.g. ``df.describe(include=[&#x27;O&#x27;])``). To\n",
              "      select pandas categorical columns, use ``&#x27;category&#x27;``\n",
              "    - None (default) : The result will include all numeric columns.\n",
              "exclude : list-like of dtypes or None (default), optional,\n",
              "    A black list of data types to omit from the result. Ignored\n",
              "    for ``Series``. Here are the options:\n",
              "\n",
              "    - A list-like of dtypes : Excludes the provided data types\n",
              "      from the result. To exclude numeric types submit\n",
              "      ``numpy.number``. To exclude object columns submit the data\n",
              "      type ``numpy.object``. Strings can also be used in the style of\n",
              "      ``select_dtypes`` (e.g. ``df.describe(exclude=[&#x27;O&#x27;])``). To\n",
              "      exclude pandas categorical columns, use ``&#x27;category&#x27;``\n",
              "    - None (default) : The result will exclude nothing.\n",
              "datetime_is_numeric : bool, default False\n",
              "    Whether to treat datetime dtypes as numeric. This affects statistics\n",
              "    calculated for the column. For DataFrame input, this also\n",
              "    controls whether datetime columns are included by default.\n",
              "\n",
              "    .. versionadded:: 1.1.0\n",
              "\n",
              "Returns\n",
              "-------\n",
              "Series or DataFrame\n",
              "    Summary statistics of the Series or Dataframe provided.\n",
              "\n",
              "See Also\n",
              "--------\n",
              "DataFrame.count: Count number of non-NA/null observations.\n",
              "DataFrame.max: Maximum of the values in the object.\n",
              "DataFrame.min: Minimum of the values in the object.\n",
              "DataFrame.mean: Mean of the values.\n",
              "DataFrame.std: Standard deviation of the observations.\n",
              "DataFrame.select_dtypes: Subset of a DataFrame including/excluding\n",
              "    columns based on their dtype.\n",
              "\n",
              "Notes\n",
              "-----\n",
              "For numeric data, the result&#x27;s index will include ``count``,\n",
              "``mean``, ``std``, ``min``, ``max`` as well as lower, ``50`` and\n",
              "upper percentiles. By default the lower percentile is ``25`` and the\n",
              "upper percentile is ``75``. The ``50`` percentile is the\n",
              "same as the median.\n",
              "\n",
              "For object data (e.g. strings or timestamps), the result&#x27;s index\n",
              "will include ``count``, ``unique``, ``top``, and ``freq``. The ``top``\n",
              "is the most common value. The ``freq`` is the most common value&#x27;s\n",
              "frequency. Timestamps also include the ``first`` and ``last`` items.\n",
              "\n",
              "If multiple object values have the highest count, then the\n",
              "``count`` and ``top`` results will be arbitrarily chosen from\n",
              "among those with the highest count.\n",
              "\n",
              "For mixed data types provided via a ``DataFrame``, the default is to\n",
              "return only an analysis of numeric columns. If the dataframe consists\n",
              "only of object and categorical data without any numeric columns, the\n",
              "default is to return an analysis of both the object and categorical\n",
              "columns. If ``include=&#x27;all&#x27;`` is provided as an option, the result\n",
              "will include a union of attributes of each type.\n",
              "\n",
              "The `include` and `exclude` parameters can be used to limit\n",
              "which columns in a ``DataFrame`` are analyzed for the output.\n",
              "The parameters are ignored when analyzing a ``Series``.\n",
              "\n",
              "Examples\n",
              "--------\n",
              "Describing a numeric ``Series``.\n",
              "\n",
              "&gt;&gt;&gt; s = pd.Series([1, 2, 3])\n",
              "&gt;&gt;&gt; s.describe()\n",
              "count    3.0\n",
              "mean     2.0\n",
              "std      1.0\n",
              "min      1.0\n",
              "25%      1.5\n",
              "50%      2.0\n",
              "75%      2.5\n",
              "max      3.0\n",
              "dtype: float64\n",
              "\n",
              "Describing a categorical ``Series``.\n",
              "\n",
              "&gt;&gt;&gt; s = pd.Series([&#x27;a&#x27;, &#x27;a&#x27;, &#x27;b&#x27;, &#x27;c&#x27;])\n",
              "&gt;&gt;&gt; s.describe()\n",
              "count     4\n",
              "unique    3\n",
              "top       a\n",
              "freq      2\n",
              "dtype: object\n",
              "\n",
              "Describing a timestamp ``Series``.\n",
              "\n",
              "&gt;&gt;&gt; s = pd.Series([\n",
              "...   np.datetime64(&quot;2000-01-01&quot;),\n",
              "...   np.datetime64(&quot;2010-01-01&quot;),\n",
              "...   np.datetime64(&quot;2010-01-01&quot;)\n",
              "... ])\n",
              "&gt;&gt;&gt; s.describe(datetime_is_numeric=True)\n",
              "count                      3\n",
              "mean     2006-09-01 08:00:00\n",
              "min      2000-01-01 00:00:00\n",
              "25%      2004-12-31 12:00:00\n",
              "50%      2010-01-01 00:00:00\n",
              "75%      2010-01-01 00:00:00\n",
              "max      2010-01-01 00:00:00\n",
              "dtype: object\n",
              "\n",
              "Describing a ``DataFrame``. By default only numeric fields\n",
              "are returned.\n",
              "\n",
              "&gt;&gt;&gt; df = pd.DataFrame({&#x27;categorical&#x27;: pd.Categorical([&#x27;d&#x27;,&#x27;e&#x27;,&#x27;f&#x27;]),\n",
              "...                    &#x27;numeric&#x27;: [1, 2, 3],\n",
              "...                    &#x27;object&#x27;: [&#x27;a&#x27;, &#x27;b&#x27;, &#x27;c&#x27;]\n",
              "...                   })\n",
              "&gt;&gt;&gt; df.describe()\n",
              "       numeric\n",
              "count      3.0\n",
              "mean       2.0\n",
              "std        1.0\n",
              "min        1.0\n",
              "25%        1.5\n",
              "50%        2.0\n",
              "75%        2.5\n",
              "max        3.0\n",
              "\n",
              "Describing all columns of a ``DataFrame`` regardless of data type.\n",
              "\n",
              "&gt;&gt;&gt; df.describe(include=&#x27;all&#x27;)  # doctest: +SKIP\n",
              "       categorical  numeric object\n",
              "count            3      3.0      3\n",
              "unique           3      NaN      3\n",
              "top              f      NaN      a\n",
              "freq             1      NaN      1\n",
              "mean           NaN      2.0    NaN\n",
              "std            NaN      1.0    NaN\n",
              "min            NaN      1.0    NaN\n",
              "25%            NaN      1.5    NaN\n",
              "50%            NaN      2.0    NaN\n",
              "75%            NaN      2.5    NaN\n",
              "max            NaN      3.0    NaN\n",
              "\n",
              "Describing a column from a ``DataFrame`` by accessing it as\n",
              "an attribute.\n",
              "\n",
              "&gt;&gt;&gt; df.numeric.describe()\n",
              "count    3.0\n",
              "mean     2.0\n",
              "std      1.0\n",
              "min      1.0\n",
              "25%      1.5\n",
              "50%      2.0\n",
              "75%      2.5\n",
              "max      3.0\n",
              "Name: numeric, dtype: float64\n",
              "\n",
              "Including only numeric columns in a ``DataFrame`` description.\n",
              "\n",
              "&gt;&gt;&gt; df.describe(include=[np.number])\n",
              "       numeric\n",
              "count      3.0\n",
              "mean       2.0\n",
              "std        1.0\n",
              "min        1.0\n",
              "25%        1.5\n",
              "50%        2.0\n",
              "75%        2.5\n",
              "max        3.0\n",
              "\n",
              "Including only string columns in a ``DataFrame`` description.\n",
              "\n",
              "&gt;&gt;&gt; df.describe(include=[object])  # doctest: +SKIP\n",
              "       object\n",
              "count       3\n",
              "unique      3\n",
              "top         a\n",
              "freq        1\n",
              "\n",
              "Including only categorical columns from a ``DataFrame`` description.\n",
              "\n",
              "&gt;&gt;&gt; df.describe(include=[&#x27;category&#x27;])\n",
              "       categorical\n",
              "count            3\n",
              "unique           3\n",
              "top              d\n",
              "freq             1\n",
              "\n",
              "Excluding numeric columns from a ``DataFrame`` description.\n",
              "\n",
              "&gt;&gt;&gt; df.describe(exclude=[np.number])  # doctest: +SKIP\n",
              "       categorical object\n",
              "count            3      3\n",
              "unique           3      3\n",
              "top              f      a\n",
              "freq             1      1\n",
              "\n",
              "Excluding object columns from a ``DataFrame`` description.\n",
              "\n",
              "&gt;&gt;&gt; df.describe(exclude=[object])  # doctest: +SKIP\n",
              "       categorical  numeric\n",
              "count            3      3.0\n",
              "unique           3      NaN\n",
              "top              f      NaN\n",
              "freq             1      NaN\n",
              "mean           NaN      2.0\n",
              "std            NaN      1.0\n",
              "min            NaN      1.0\n",
              "25%            NaN      1.5\n",
              "50%            NaN      2.0\n",
              "75%            NaN      2.5\n",
              "max            NaN      3.0</pre>\n",
              "      <script>\n",
              "      if (google.colab.kernel.accessAllowed && google.colab.files && google.colab.files.view) {\n",
              "        for (const element of document.querySelectorAll('.filepath')) {\n",
              "          element.style.display = 'block'\n",
              "          element.onclick = (event) => {\n",
              "            event.preventDefault();\n",
              "            event.stopPropagation();\n",
              "            google.colab.files.view(element.textContent, 10691);\n",
              "          };\n",
              "        }\n",
              "      }\n",
              "      for (const element of document.querySelectorAll('.function-repr-contents')) {\n",
              "        element.onclick = (event) => {\n",
              "          event.preventDefault();\n",
              "          event.stopPropagation();\n",
              "          element.classList.toggle('function-repr-contents-collapsed');\n",
              "        };\n",
              "      }\n",
              "      </script>\n",
              "      </div>"
            ]
          },
          "metadata": {},
          "execution_count": 8
        }
      ],
      "source": [
        "water = pd.read_csv('/content/drive/MyDrive/dataset/waterquality_1.csv')\n",
        "water.head()\n",
        "water.describe"
      ]
    },
    {
      "cell_type": "code",
      "execution_count": 9,
      "metadata": {
        "id": "Y1MzLvo78912"
      },
      "outputs": [],
      "source": [
        "water = water.drop(columns=['Station', 'Station Name', 'Year', 'Location 1'])"
      ]
    },
    {
      "cell_type": "code",
      "execution_count": 10,
      "metadata": {
        "id": "l6o-Ele79IuZ"
      },
      "outputs": [],
      "source": [
        "water = water.rename(columns={\n",
        "    'Overall WQI' : 'WQI',\n",
        "    'WQI FC'      : 'Fecal',\n",
        "    'WQI Oxy'     : 'Oxygen',\n",
        "    'WQI pH'      : 'pH',\n",
        "    'WQI TSS'     : 'Tot_Sediment', # Total Suspended Sediment\n",
        "    'WQI Temp'    : 'Temp',\n",
        "    'WQI TPN'     : 'Nitrogen',\n",
        "    'WQI TP'      : 'Phosphorus',\n",
        "    'WQI Turb'    : 'Turbidity',\n",
        "})"
      ]
    },
    {
      "cell_type": "code",
      "execution_count": 11,
      "metadata": {
        "id": "q40x0wA49WMQ",
        "colab": {
          "base_uri": "https://localhost:8080/"
        },
        "outputId": "09b500e0-500b-4e8a-8b15-905469ffe797"
      },
      "outputs": [
        {
          "output_type": "stream",
          "name": "stdout",
          "text": [
            "Missing Values:\n",
            " WQI             0\n",
            "Fecal           0\n",
            "Oxygen          0\n",
            "pH              0\n",
            "Tot_Sediment    0\n",
            "Temp            0\n",
            "Nitrogen        0\n",
            "Phosphorus      0\n",
            "Turbidity       0\n",
            "dtype: int64\n"
          ]
        }
      ],
      "source": [
        "missing_values = water.isnull().sum()\n",
        "print(\"Missing Values:\\n\", missing_values)"
      ]
    },
    {
      "cell_type": "code",
      "execution_count": 12,
      "metadata": {
        "id": "2N-auvlc9fwq"
      },
      "outputs": [],
      "source": [
        "# Canadian Council of Ministers of the Environment Water Quality Index (CCME WQI)\n",
        "# 95 - 100 Exellent\n",
        "# 80 - 94  Good\n",
        "# 60 - 79  Fair\n",
        "# 45 - 59  Marginal\n",
        "# 0  - 44  Poor\n",
        "\n",
        "conditions = [\n",
        "    (water.WQI >= 95) & (water.WQI <= 100),\n",
        "    (water.WQI >= 80) & (water.WQI <= 94),\n",
        "    (water.WQI >= 60) & (water.WQI <= 79),\n",
        "    (water.WQI >= 45) & (water.WQI <= 59),\n",
        "    (water.WQI >= 0)  & (water.WQI <= 44),\n",
        "]\n",
        "\n",
        "values = [5, 4, 3, 2, 1]\n",
        "\n",
        "water['Quality'] = np.select(conditions, values)"
      ]
    },
    {
      "cell_type": "code",
      "execution_count": 13,
      "metadata": {
        "id": "IppRKImq9zO1",
        "colab": {
          "base_uri": "https://localhost:8080/",
          "height": 206
        },
        "outputId": "8823f77d-ea19-4efa-c581-56c9cafcc4c4"
      },
      "outputs": [
        {
          "output_type": "execute_result",
          "data": {
            "text/plain": [
              "   Fecal  Oxygen    pH  Tot_Sediment  Temp  Nitrogen  Phosphorus  Turbidity  \\\n",
              "0   91.0    85.0  95.0          78.0  81.0      99.0        84.0       69.0   \n",
              "1   78.0    84.0  77.0          85.0  90.0      99.0        72.0       80.0   \n",
              "2   90.0    79.0  88.0          61.0  90.0      98.0        71.0       49.0   \n",
              "3   88.0    80.0  88.0          75.0  95.0     100.0        79.0       71.0   \n",
              "4   93.0    86.0  96.0          84.0  90.0     100.0        84.0       87.0   \n",
              "\n",
              "   Quality  \n",
              "0        4  \n",
              "1        4  \n",
              "2        3  \n",
              "3        4  \n",
              "4        5  "
            ],
            "text/html": [
              "\n",
              "  <div id=\"df-37398a33-ab73-4a3d-880c-51c98300a94e\" class=\"colab-df-container\">\n",
              "    <div>\n",
              "<style scoped>\n",
              "    .dataframe tbody tr th:only-of-type {\n",
              "        vertical-align: middle;\n",
              "    }\n",
              "\n",
              "    .dataframe tbody tr th {\n",
              "        vertical-align: top;\n",
              "    }\n",
              "\n",
              "    .dataframe thead th {\n",
              "        text-align: right;\n",
              "    }\n",
              "</style>\n",
              "<table border=\"1\" class=\"dataframe\">\n",
              "  <thead>\n",
              "    <tr style=\"text-align: right;\">\n",
              "      <th></th>\n",
              "      <th>Fecal</th>\n",
              "      <th>Oxygen</th>\n",
              "      <th>pH</th>\n",
              "      <th>Tot_Sediment</th>\n",
              "      <th>Temp</th>\n",
              "      <th>Nitrogen</th>\n",
              "      <th>Phosphorus</th>\n",
              "      <th>Turbidity</th>\n",
              "      <th>Quality</th>\n",
              "    </tr>\n",
              "  </thead>\n",
              "  <tbody>\n",
              "    <tr>\n",
              "      <th>0</th>\n",
              "      <td>91.0</td>\n",
              "      <td>85.0</td>\n",
              "      <td>95.0</td>\n",
              "      <td>78.0</td>\n",
              "      <td>81.0</td>\n",
              "      <td>99.0</td>\n",
              "      <td>84.0</td>\n",
              "      <td>69.0</td>\n",
              "      <td>4</td>\n",
              "    </tr>\n",
              "    <tr>\n",
              "      <th>1</th>\n",
              "      <td>78.0</td>\n",
              "      <td>84.0</td>\n",
              "      <td>77.0</td>\n",
              "      <td>85.0</td>\n",
              "      <td>90.0</td>\n",
              "      <td>99.0</td>\n",
              "      <td>72.0</td>\n",
              "      <td>80.0</td>\n",
              "      <td>4</td>\n",
              "    </tr>\n",
              "    <tr>\n",
              "      <th>2</th>\n",
              "      <td>90.0</td>\n",
              "      <td>79.0</td>\n",
              "      <td>88.0</td>\n",
              "      <td>61.0</td>\n",
              "      <td>90.0</td>\n",
              "      <td>98.0</td>\n",
              "      <td>71.0</td>\n",
              "      <td>49.0</td>\n",
              "      <td>3</td>\n",
              "    </tr>\n",
              "    <tr>\n",
              "      <th>3</th>\n",
              "      <td>88.0</td>\n",
              "      <td>80.0</td>\n",
              "      <td>88.0</td>\n",
              "      <td>75.0</td>\n",
              "      <td>95.0</td>\n",
              "      <td>100.0</td>\n",
              "      <td>79.0</td>\n",
              "      <td>71.0</td>\n",
              "      <td>4</td>\n",
              "    </tr>\n",
              "    <tr>\n",
              "      <th>4</th>\n",
              "      <td>93.0</td>\n",
              "      <td>86.0</td>\n",
              "      <td>96.0</td>\n",
              "      <td>84.0</td>\n",
              "      <td>90.0</td>\n",
              "      <td>100.0</td>\n",
              "      <td>84.0</td>\n",
              "      <td>87.0</td>\n",
              "      <td>5</td>\n",
              "    </tr>\n",
              "  </tbody>\n",
              "</table>\n",
              "</div>\n",
              "    <div class=\"colab-df-buttons\">\n",
              "\n",
              "  <div class=\"colab-df-container\">\n",
              "    <button class=\"colab-df-convert\" onclick=\"convertToInteractive('df-37398a33-ab73-4a3d-880c-51c98300a94e')\"\n",
              "            title=\"Convert this dataframe to an interactive table.\"\n",
              "            style=\"display:none;\">\n",
              "\n",
              "  <svg xmlns=\"http://www.w3.org/2000/svg\" height=\"24px\" viewBox=\"0 -960 960 960\">\n",
              "    <path d=\"M120-120v-720h720v720H120Zm60-500h600v-160H180v160Zm220 220h160v-160H400v160Zm0 220h160v-160H400v160ZM180-400h160v-160H180v160Zm440 0h160v-160H620v160ZM180-180h160v-160H180v160Zm440 0h160v-160H620v160Z\"/>\n",
              "  </svg>\n",
              "    </button>\n",
              "\n",
              "  <style>\n",
              "    .colab-df-container {\n",
              "      display:flex;\n",
              "      gap: 12px;\n",
              "    }\n",
              "\n",
              "    .colab-df-convert {\n",
              "      background-color: #E8F0FE;\n",
              "      border: none;\n",
              "      border-radius: 50%;\n",
              "      cursor: pointer;\n",
              "      display: none;\n",
              "      fill: #1967D2;\n",
              "      height: 32px;\n",
              "      padding: 0 0 0 0;\n",
              "      width: 32px;\n",
              "    }\n",
              "\n",
              "    .colab-df-convert:hover {\n",
              "      background-color: #E2EBFA;\n",
              "      box-shadow: 0px 1px 2px rgba(60, 64, 67, 0.3), 0px 1px 3px 1px rgba(60, 64, 67, 0.15);\n",
              "      fill: #174EA6;\n",
              "    }\n",
              "\n",
              "    .colab-df-buttons div {\n",
              "      margin-bottom: 4px;\n",
              "    }\n",
              "\n",
              "    [theme=dark] .colab-df-convert {\n",
              "      background-color: #3B4455;\n",
              "      fill: #D2E3FC;\n",
              "    }\n",
              "\n",
              "    [theme=dark] .colab-df-convert:hover {\n",
              "      background-color: #434B5C;\n",
              "      box-shadow: 0px 1px 3px 1px rgba(0, 0, 0, 0.15);\n",
              "      filter: drop-shadow(0px 1px 2px rgba(0, 0, 0, 0.3));\n",
              "      fill: #FFFFFF;\n",
              "    }\n",
              "  </style>\n",
              "\n",
              "    <script>\n",
              "      const buttonEl =\n",
              "        document.querySelector('#df-37398a33-ab73-4a3d-880c-51c98300a94e button.colab-df-convert');\n",
              "      buttonEl.style.display =\n",
              "        google.colab.kernel.accessAllowed ? 'block' : 'none';\n",
              "\n",
              "      async function convertToInteractive(key) {\n",
              "        const element = document.querySelector('#df-37398a33-ab73-4a3d-880c-51c98300a94e');\n",
              "        const dataTable =\n",
              "          await google.colab.kernel.invokeFunction('convertToInteractive',\n",
              "                                                    [key], {});\n",
              "        if (!dataTable) return;\n",
              "\n",
              "        const docLinkHtml = 'Like what you see? Visit the ' +\n",
              "          '<a target=\"_blank\" href=https://colab.research.google.com/notebooks/data_table.ipynb>data table notebook</a>'\n",
              "          + ' to learn more about interactive tables.';\n",
              "        element.innerHTML = '';\n",
              "        dataTable['output_type'] = 'display_data';\n",
              "        await google.colab.output.renderOutput(dataTable, element);\n",
              "        const docLink = document.createElement('div');\n",
              "        docLink.innerHTML = docLinkHtml;\n",
              "        element.appendChild(docLink);\n",
              "      }\n",
              "    </script>\n",
              "  </div>\n",
              "\n",
              "\n",
              "<div id=\"df-976d6db8-6c3e-4877-a272-8d7e0c2a6941\">\n",
              "  <button class=\"colab-df-quickchart\" onclick=\"quickchart('df-976d6db8-6c3e-4877-a272-8d7e0c2a6941')\"\n",
              "            title=\"Suggest charts\"\n",
              "            style=\"display:none;\">\n",
              "\n",
              "<svg xmlns=\"http://www.w3.org/2000/svg\" height=\"24px\"viewBox=\"0 0 24 24\"\n",
              "     width=\"24px\">\n",
              "    <g>\n",
              "        <path d=\"M19 3H5c-1.1 0-2 .9-2 2v14c0 1.1.9 2 2 2h14c1.1 0 2-.9 2-2V5c0-1.1-.9-2-2-2zM9 17H7v-7h2v7zm4 0h-2V7h2v10zm4 0h-2v-4h2v4z\"/>\n",
              "    </g>\n",
              "</svg>\n",
              "  </button>\n",
              "\n",
              "<style>\n",
              "  .colab-df-quickchart {\n",
              "      --bg-color: #E8F0FE;\n",
              "      --fill-color: #1967D2;\n",
              "      --hover-bg-color: #E2EBFA;\n",
              "      --hover-fill-color: #174EA6;\n",
              "      --disabled-fill-color: #AAA;\n",
              "      --disabled-bg-color: #DDD;\n",
              "  }\n",
              "\n",
              "  [theme=dark] .colab-df-quickchart {\n",
              "      --bg-color: #3B4455;\n",
              "      --fill-color: #D2E3FC;\n",
              "      --hover-bg-color: #434B5C;\n",
              "      --hover-fill-color: #FFFFFF;\n",
              "      --disabled-bg-color: #3B4455;\n",
              "      --disabled-fill-color: #666;\n",
              "  }\n",
              "\n",
              "  .colab-df-quickchart {\n",
              "    background-color: var(--bg-color);\n",
              "    border: none;\n",
              "    border-radius: 50%;\n",
              "    cursor: pointer;\n",
              "    display: none;\n",
              "    fill: var(--fill-color);\n",
              "    height: 32px;\n",
              "    padding: 0;\n",
              "    width: 32px;\n",
              "  }\n",
              "\n",
              "  .colab-df-quickchart:hover {\n",
              "    background-color: var(--hover-bg-color);\n",
              "    box-shadow: 0 1px 2px rgba(60, 64, 67, 0.3), 0 1px 3px 1px rgba(60, 64, 67, 0.15);\n",
              "    fill: var(--button-hover-fill-color);\n",
              "  }\n",
              "\n",
              "  .colab-df-quickchart-complete:disabled,\n",
              "  .colab-df-quickchart-complete:disabled:hover {\n",
              "    background-color: var(--disabled-bg-color);\n",
              "    fill: var(--disabled-fill-color);\n",
              "    box-shadow: none;\n",
              "  }\n",
              "\n",
              "  .colab-df-spinner {\n",
              "    border: 2px solid var(--fill-color);\n",
              "    border-color: transparent;\n",
              "    border-bottom-color: var(--fill-color);\n",
              "    animation:\n",
              "      spin 1s steps(1) infinite;\n",
              "  }\n",
              "\n",
              "  @keyframes spin {\n",
              "    0% {\n",
              "      border-color: transparent;\n",
              "      border-bottom-color: var(--fill-color);\n",
              "      border-left-color: var(--fill-color);\n",
              "    }\n",
              "    20% {\n",
              "      border-color: transparent;\n",
              "      border-left-color: var(--fill-color);\n",
              "      border-top-color: var(--fill-color);\n",
              "    }\n",
              "    30% {\n",
              "      border-color: transparent;\n",
              "      border-left-color: var(--fill-color);\n",
              "      border-top-color: var(--fill-color);\n",
              "      border-right-color: var(--fill-color);\n",
              "    }\n",
              "    40% {\n",
              "      border-color: transparent;\n",
              "      border-right-color: var(--fill-color);\n",
              "      border-top-color: var(--fill-color);\n",
              "    }\n",
              "    60% {\n",
              "      border-color: transparent;\n",
              "      border-right-color: var(--fill-color);\n",
              "    }\n",
              "    80% {\n",
              "      border-color: transparent;\n",
              "      border-right-color: var(--fill-color);\n",
              "      border-bottom-color: var(--fill-color);\n",
              "    }\n",
              "    90% {\n",
              "      border-color: transparent;\n",
              "      border-bottom-color: var(--fill-color);\n",
              "    }\n",
              "  }\n",
              "</style>\n",
              "\n",
              "  <script>\n",
              "    async function quickchart(key) {\n",
              "      const quickchartButtonEl =\n",
              "        document.querySelector('#' + key + ' button');\n",
              "      quickchartButtonEl.disabled = true;  // To prevent multiple clicks.\n",
              "      quickchartButtonEl.classList.add('colab-df-spinner');\n",
              "      try {\n",
              "        const charts = await google.colab.kernel.invokeFunction(\n",
              "            'suggestCharts', [key], {});\n",
              "      } catch (error) {\n",
              "        console.error('Error during call to suggestCharts:', error);\n",
              "      }\n",
              "      quickchartButtonEl.classList.remove('colab-df-spinner');\n",
              "      quickchartButtonEl.classList.add('colab-df-quickchart-complete');\n",
              "    }\n",
              "    (() => {\n",
              "      let quickchartButtonEl =\n",
              "        document.querySelector('#df-976d6db8-6c3e-4877-a272-8d7e0c2a6941 button');\n",
              "      quickchartButtonEl.style.display =\n",
              "        google.colab.kernel.accessAllowed ? 'block' : 'none';\n",
              "    })();\n",
              "  </script>\n",
              "</div>\n",
              "\n",
              "    </div>\n",
              "  </div>\n"
            ],
            "application/vnd.google.colaboratory.intrinsic+json": {
              "type": "dataframe",
              "variable_name": "water",
              "summary": "{\n  \"name\": \"water\",\n  \"rows\": 15536,\n  \"fields\": [\n    {\n      \"column\": \"Fecal\",\n      \"properties\": {\n        \"dtype\": \"number\",\n        \"std\": 10.445541406335666,\n        \"min\": -0.012506867,\n        \"max\": 100.0454205,\n        \"num_unique_values\": 14614,\n        \"samples\": [\n          78.99846528,\n          73.99535408,\n          84.00553673\n        ],\n        \"semantic_type\": \"\",\n        \"description\": \"\"\n      }\n    },\n    {\n      \"column\": \"Oxygen\",\n      \"properties\": {\n        \"dtype\": \"number\",\n        \"std\": 6.697885025106859,\n        \"min\": 50.95226327,\n        \"max\": 100.0393176,\n        \"num_unique_values\": 14601,\n        \"samples\": [\n          85.98994154,\n          85.98856108,\n          95.00029614\n        ],\n        \"semantic_type\": \"\",\n        \"description\": \"\"\n      }\n    },\n    {\n      \"column\": \"pH\",\n      \"properties\": {\n        \"dtype\": \"number\",\n        \"std\": 9.800991012649064,\n        \"min\": 42.97936329,\n        \"max\": 99.02007229,\n        \"num_unique_values\": 14611,\n        \"samples\": [\n          73.98580979,\n          92.01658908,\n          95.02237584\n        ],\n        \"semantic_type\": \"\",\n        \"description\": \"\"\n      }\n    },\n    {\n      \"column\": \"Tot_Sediment\",\n      \"properties\": {\n        \"dtype\": \"number\",\n        \"std\": 19.988346838076648,\n        \"min\": -0.024828828,\n        \"max\": 100.0421911,\n        \"num_unique_values\": 14659,\n        \"samples\": [\n          67.99015015,\n          64.02874867,\n          77.01011404\n        ],\n        \"semantic_type\": \"\",\n        \"description\": \"\"\n      }\n    },\n    {\n      \"column\": \"Temp\",\n      \"properties\": {\n        \"dtype\": \"number\",\n        \"std\": 11.94943594934024,\n        \"min\": 16.98411433,\n        \"max\": 100.0499398,\n        \"num_unique_values\": 14630,\n        \"samples\": [\n          78.03185555,\n          65.99609814,\n          78.00308107\n        ],\n        \"semantic_type\": \"\",\n        \"description\": \"\"\n      }\n    },\n    {\n      \"column\": \"Nitrogen\",\n      \"properties\": {\n        \"dtype\": \"number\",\n        \"std\": 22.228672242271653,\n        \"min\": -0.030992493,\n        \"max\": 100.0599486,\n        \"num_unique_values\": 14659,\n        \"samples\": [\n          77.97904777,\n          100.0125811,\n          82.99525062\n        ],\n        \"semantic_type\": \"\",\n        \"description\": \"\"\n      }\n    },\n    {\n      \"column\": \"Phosphorus\",\n      \"properties\": {\n        \"dtype\": \"number\",\n        \"std\": 21.416597726111295,\n        \"min\": -0.037928205,\n        \"max\": 100.0449212,\n        \"num_unique_values\": 14658,\n        \"samples\": [\n          95.98874184,\n          92.99965229,\n          57.99619733\n        ],\n        \"semantic_type\": \"\",\n        \"description\": \"\"\n      }\n    },\n    {\n      \"column\": \"Turbidity\",\n      \"properties\": {\n        \"dtype\": \"number\",\n        \"std\": 20.757927174798276,\n        \"min\": 0.965515127,\n        \"max\": 100.0343673,\n        \"num_unique_values\": 14660,\n        \"samples\": [\n          67.00623938,\n          57.00795577,\n          66.98880944\n        ],\n        \"semantic_type\": \"\",\n        \"description\": \"\"\n      }\n    },\n    {\n      \"column\": \"Quality\",\n      \"properties\": {\n        \"dtype\": \"number\",\n        \"std\": 1,\n        \"min\": 0,\n        \"max\": 5,\n        \"num_unique_values\": 6,\n        \"samples\": [\n          4,\n          3,\n          0\n        ],\n        \"semantic_type\": \"\",\n        \"description\": \"\"\n      }\n    }\n  ]\n}"
            }
          },
          "metadata": {},
          "execution_count": 13
        }
      ],
      "source": [
        "water = water.drop(columns=['WQI'])\n",
        "water.head()"
      ]
    },
    {
      "cell_type": "code",
      "execution_count": 14,
      "metadata": {
        "id": "7rEeuqg8-GDi"
      },
      "outputs": [],
      "source": [
        "y = water['Quality']"
      ]
    },
    {
      "cell_type": "code",
      "execution_count": 15,
      "metadata": {
        "id": "j93kJuJS-He5"
      },
      "outputs": [],
      "source": [
        "X = water.drop(columns=['Quality'])"
      ]
    },
    {
      "cell_type": "code",
      "execution_count": 16,
      "metadata": {
        "id": "0bMaZ7gQ-J3S"
      },
      "outputs": [],
      "source": [
        "X_train, X_test, y_train, y_test = train_test_split(X, y, test_size=0.2, random_state=42)\n"
      ]
    },
    {
      "cell_type": "code",
      "execution_count": 17,
      "metadata": {
        "id": "dJJqy7eA-fiY"
      },
      "outputs": [],
      "source": [
        "import numpy as np\n",
        "import pandas as pd\n",
        "\n",
        "class SimpleDecisionTreeClassifier:\n",
        "    def __init__(self):\n",
        "        self.tree = None\n",
        "        self.feature_importances_ = None\n",
        "\n",
        "    @staticmethod\n",
        "    def gini_impurity(y):\n",
        "        if len(y) == 0:\n",
        "            return 0.0\n",
        "        class_probs = np.bincount(y) / len(y)\n",
        "        gini = 1.0 - np.sum(class_probs ** 2)\n",
        "        return gini\n",
        "\n",
        "    def get_gini(self, y):\n",
        "        return self.gini_impurity(y)\n",
        "\n",
        "    def best_split(self, X, y):\n",
        "        features = list(X.columns)\n",
        "        best_feature, best_value, best_gini = None, None, float('inf')\n",
        "\n",
        "        for feature in features:\n",
        "            values = sorted(X[feature].unique())\n",
        "            for value in values:\n",
        "                left_mask = X[feature] <= value\n",
        "                right_mask = ~left_mask\n",
        "\n",
        "                y_left = y[left_mask]\n",
        "                y_right = y[right_mask]\n",
        "\n",
        "                gini_left = self.get_gini(y_left)\n",
        "                gini_right = self.get_gini(y_right)\n",
        "\n",
        "                n_left = len(y_left)\n",
        "                n_right = len(y_right)\n",
        "\n",
        "                w_left = n_left / (n_left + n_right)\n",
        "                w_right = n_right / (n_left + n_right)\n",
        "\n",
        "                w_gini = w_left * gini_left + w_right * gini_right\n",
        "\n",
        "                if w_gini < best_gini:\n",
        "                    best_feature, best_value, best_gini = feature, value, w_gini\n",
        "\n",
        "        return best_feature, best_value\n",
        "\n",
        "    def grow_tree(self, X, y, depth, min_samples_split):\n",
        "        if depth == 0 or len(y) < min_samples_split:\n",
        "            return np.bincount(y).argmax() if len(y) > 0 else None\n",
        "\n",
        "        best_feature, best_value = self.best_split(X, y)\n",
        "\n",
        "        if best_feature is None:\n",
        "            return np.bincount(y).argmax() if len(y) > 0 else None\n",
        "\n",
        "        left_mask = X[best_feature] <= best_value\n",
        "        right_mask = ~left_mask\n",
        "\n",
        "        left_subtree = self.grow_tree(X[left_mask], y[left_mask], depth - 1, min_samples_split)\n",
        "        right_subtree = self.grow_tree(X[right_mask], y[right_mask], depth - 1, min_samples_split)\n",
        "\n",
        "        return (best_feature, best_value, left_subtree, right_subtree)\n",
        "\n",
        "    def fit(self, X, y, max_depth=None, min_samples_split=None):\n",
        "        self.tree = self.grow_tree(X, y, max_depth, min_samples_split)\n",
        "        self.feature_importances_ = self.calculate_feature_importances(X, y)\n",
        "\n",
        "    def calculate_feature_importances(self, X, y):\n",
        "        gini_values = []\n",
        "        for feature in X.columns:\n",
        "            unique_values = X[feature].unique()\n",
        "            gini_sum = 0\n",
        "            for value in unique_values:\n",
        "                value_mask = X[feature] == value\n",
        "                y_values = y[value_mask]\n",
        "                gini = self.get_gini(y_values) * len(y_values) / len(y)\n",
        "                gini_sum += gini\n",
        "            gini_values.append((feature, gini_sum))\n",
        "        gini_values.sort(key=lambda x: x[1])\n",
        "        return gini_values\n",
        "\n",
        "    def predict_obs(self, x, tree):\n",
        "        if isinstance(tree, tuple):\n",
        "            feature, value, left_subtree, right_subtree = tree\n",
        "            if x[feature] <= value:\n",
        "                return self.predict_obs(x, left_subtree)\n",
        "            else:\n",
        "                return self.predict_obs(x, right_subtree)\n",
        "        else:\n",
        "            return tree\n",
        "\n",
        "    def predict(self, X):\n",
        "        if self.tree is None:\n",
        "            raise ValueError(\"The model has not been trained yet. Call fit() first.\")\n",
        "        predictions = []\n",
        "        for _, x in X.iterrows():\n",
        "            prediction = self.predict_obs(x, self.tree)\n",
        "            predictions.append(prediction)\n",
        "        return predictions\n"
      ]
    },
    {
      "cell_type": "code",
      "execution_count": 18,
      "metadata": {
        "id": "haNQ8a5o-mXv"
      },
      "outputs": [],
      "source": [
        "simple_tree_classifier = SimpleDecisionTreeClassifier()"
      ]
    },
    {
      "cell_type": "code",
      "execution_count": 19,
      "metadata": {
        "id": "pXkWF3f9-slq"
      },
      "outputs": [],
      "source": [
        "simple_tree_classifier.fit(X_train, y_train, max_depth=10, min_samples_split=20)"
      ]
    },
    {
      "cell_type": "code",
      "execution_count": 20,
      "metadata": {
        "id": "iDPZZeVBBjUn"
      },
      "outputs": [],
      "source": [
        "predictions = simple_tree_classifier.predict(X_test)"
      ]
    },
    {
      "cell_type": "code",
      "execution_count": 21,
      "metadata": {
        "colab": {
          "base_uri": "https://localhost:8080/"
        },
        "id": "pPuYrdq1BG3c",
        "outputId": "a65a7bfc-d353-4b23-f30b-34506869ac48"
      },
      "outputs": [
        {
          "output_type": "stream",
          "name": "stdout",
          "text": [
            "Accuracy: 0.907014157014157\n"
          ]
        }
      ],
      "source": [
        "accuracy = accuracy_score(y_test, predictions)\n",
        "print(f'Accuracy: {accuracy}')"
      ]
    },
    {
      "cell_type": "code",
      "execution_count": 22,
      "metadata": {
        "colab": {
          "base_uri": "https://localhost:8080/"
        },
        "id": "dt5geeUuBnwB",
        "outputId": "d1e3b876-7b06-488c-f276-44c3b2921c35"
      },
      "outputs": [
        {
          "output_type": "stream",
          "name": "stdout",
          "text": [
            "Classification Report:\n",
            "              precision    recall  f1-score   support\n",
            "\n",
            "           0       0.48      0.30      0.37       149\n",
            "           1       0.96      0.89      0.93       123\n",
            "           2       0.98      0.90      0.94       265\n",
            "           3       0.92      0.95      0.94      1398\n",
            "           4       0.91      0.94      0.93      1098\n",
            "           5       0.72      0.87      0.79        75\n",
            "\n",
            "    accuracy                           0.91      3108\n",
            "   macro avg       0.83      0.81      0.81      3108\n",
            "weighted avg       0.90      0.91      0.90      3108\n",
            "\n"
          ]
        }
      ],
      "source": [
        "print('Classification Report:')\n",
        "print(classification_report(y_test, predictions))"
      ]
    },
    {
      "cell_type": "code",
      "execution_count": 23,
      "metadata": {
        "colab": {
          "base_uri": "https://localhost:8080/"
        },
        "id": "kGl6tC2MKIZn",
        "outputId": "0341df16-d8c6-4879-cb72-a91390ce2dd4"
      },
      "outputs": [
        {
          "output_type": "stream",
          "name": "stdout",
          "text": [
            "Confusion Matrix:\n",
            "[[  44    2    5   43   38   17]\n",
            " [   5  110    1    7    0    0]\n",
            " [  12    1  239   13    0    0]\n",
            " [  20    1    0 1326   51    0]\n",
            " [  10    0    0   45 1035    8]\n",
            " [   1    0    0    0    9   65]]\n"
          ]
        }
      ],
      "source": [
        "print('Confusion Matrix:')\n",
        "print(confusion_matrix(y_test, predictions))"
      ]
    },
    {
      "cell_type": "code",
      "execution_count": 24,
      "metadata": {
        "colab": {
          "base_uri": "https://localhost:8080/",
          "height": 564
        },
        "id": "OPKrWKU3KPb1",
        "outputId": "b252b8cb-2e02-4495-850a-b91b71f0c46d"
      },
      "outputs": [
        {
          "output_type": "display_data",
          "data": {
            "text/plain": [
              "<Figure size 800x600 with 2 Axes>"
            ],
            "image/png": "[encoded data removed]"
          },
          "metadata": {}
        }
      ],
      "source": [
        "plt.figure(figsize=(8, 6))\n",
        "sns.heatmap(confusion_matrix(y_test, predictions), annot=True, fmt='d', cmap='Blues')\n",
        "plt.title('Confusion Matrix')\n",
        "plt.xlabel('Predicted Labels')\n",
        "plt.ylabel('True Labels')\n",
        "plt.show()"
      ]
    },
    {
      "cell_type": "code",
      "execution_count": 25,
      "metadata": {
        "colab": {
          "base_uri": "https://localhost:8080/"
        },
        "id": "Bug52kPkKXs-",
        "outputId": "b9662cfc-f16a-44fa-8263-81f49e523c89"
      },
      "outputs": [
        {
          "output_type": "stream",
          "name": "stdout",
          "text": [
            "Metrics for the training set:\n",
            "Accuracy: 0.94\n",
            "Precision: 0.93\n",
            "Recall: 0.94\n",
            "F1 Score: 0.93\n",
            "\n",
            "Metrics for the test set:\n",
            "Accuracy: 0.91\n",
            "Precision: 0.90\n",
            "Recall: 0.91\n",
            "F1 Score: 0.90\n"
          ]
        }
      ],
      "source": [
        "from sklearn.metrics import accuracy_score, precision_score, recall_score, f1_score\n",
        "\n",
        "# Predictions on the training set\n",
        "y_train_pred = simple_tree_classifier.predict(X_train)\n",
        "\n",
        "# Predictions on the test set\n",
        "y_test_pred = simple_tree_classifier.predict(X_test)\n",
        "\n",
        "# Calculate metrics for the training set\n",
        "accuracy_train = accuracy_score(y_train, y_train_pred)\n",
        "precision_train = precision_score(y_train, y_train_pred, average='weighted')\n",
        "recall_train = recall_score(y_train, y_train_pred, average='weighted')\n",
        "f1_train = f1_score(y_train, y_train_pred, average='weighted')\n",
        "\n",
        "# Calculate metrics for the test set\n",
        "accuracy_test = accuracy_score(y_test, y_test_pred)\n",
        "precision_test = precision_score(y_test, y_test_pred, average='weighted')\n",
        "recall_test = recall_score(y_test, y_test_pred, average='weighted')\n",
        "f1_test = f1_score(y_test, y_test_pred, average='weighted')\n",
        "\n",
        "# Print the results\n",
        "print(\"Metrics for the training set:\")\n",
        "print(f\"Accuracy: {accuracy_train:.2f}\")\n",
        "print(f\"Precision: {precision_train:.2f}\")\n",
        "print(f\"Recall: {recall_train:.2f}\")\n",
        "print(f\"F1 Score: {f1_train:.2f}\")\n",
        "\n",
        "print(\"\\nMetrics for the test set:\")\n",
        "print(f\"Accuracy: {accuracy_test:.2f}\")\n",
        "print(f\"Precision: {precision_test:.2f}\")\n",
        "print(f\"Recall: {recall_test:.2f}\")\n",
        "print(f\"F1 Score: {f1_test:.2f}\")\n"
      ]
    },
    {
      "cell_type": "code",
      "execution_count": 26,
      "metadata": {
        "id": "nt-CXVDhKi4W"
      },
      "outputs": [],
      "source": [
        "#random forest\n",
        "import numpy as np\n",
        "import pandas as pd\n",
        "from sklearn.model_selection import train_test_split\n",
        "from sklearn.metrics import accuracy_score, classification_report, confusion_matrix\n",
        "import matplotlib.pyplot as plt\n",
        "import seaborn as sns\n"
      ]
    },
    {
      "cell_type": "code",
      "execution_count": 27,
      "metadata": {
        "id": "8qSQnnmNLNgW"
      },
      "outputs": [],
      "source": [
        "# Assuming the last column is  target variable (y_train)\n",
        "y_train = water['Quality']\n",
        "\n",
        "# Assuming the rest of the columns are  features (X_train)\n",
        "X_train = water.drop(columns=['Quality'])\n"
      ]
    },
    {
      "cell_type": "code",
      "execution_count": 28,
      "metadata": {
        "id": "wrosoAdQLSf4"
      },
      "outputs": [],
      "source": [
        "X_train, X_test, y_train, y_test = train_test_split(X_train, y_train, test_size=0.2, random_state=42)\n"
      ]
    },
    {
      "cell_type": "code",
      "execution_count": 29,
      "metadata": {
        "id": "qNgfwSgDL98-"
      },
      "outputs": [],
      "source": [
        "import numpy as np\n",
        "import pandas as pd\n",
        "from sklearn.utils import resample\n",
        "\n",
        "class SimpleRandomForestClassifier:\n",
        "    def __init__(self, n_estimators=100, max_depth=None, min_samples_split=2):\n",
        "        self.n_estimators = n_estimators\n",
        "        self.max_depth = max_depth\n",
        "        self.min_samples_split = min_samples_split\n",
        "        self.trees = []\n",
        "\n",
        "    def bootstrap_sample(self, X, y):\n",
        "        indices = resample(np.arange(len(X)), replace=True)\n",
        "        X_sample, y_sample = X.iloc[indices], y.iloc[indices]\n",
        "        return X_sample, y_sample\n",
        "\n",
        "    def fit(self, X, y):\n",
        "        print(\"Starting Random Forest fitting...\")\n",
        "        for _ in range(self.n_estimators):\n",
        "            print(f\"Fitting tree {_ + 1}...\")\n",
        "            X_sample, y_sample = self.bootstrap_sample(X, y)\n",
        "            tree = SimpleDecisionTreeClassifier()\n",
        "            tree.fit(X_sample, y_sample, max_depth=self.max_depth, min_samples_split=self.min_samples_split)\n",
        "            print(f\"Tree {_ + 1} fitted.\")\n",
        "            self.trees.append(tree)\n",
        "        print(\"Random Forest fitting complete.\")\n",
        "\n",
        "    def predict(self, X):\n",
        "        predictions = np.zeros((len(X), len(self.trees)))\n",
        "\n",
        "        for i, tree in enumerate(self.trees):\n",
        "            tree_predictions = np.array([tree.predict_obs(x, tree.tree) for _, x in X.iterrows()])\n",
        "            predictions[:, i] = tree_predictions\n",
        "\n",
        "        # Print the predictions array\n",
        "        print(\"Predictions array:\")\n",
        "        print(predictions)\n",
        "\n",
        "        # Use majority voting to get the final predictions\n",
        "        final_predictions = np.apply_along_axis(lambda x: np.argmax(np.bincount(x.astype(int))), axis=1, arr=predictions)\n",
        "        return final_predictions\n",
        "\n",
        "\n",
        "\n"
      ]
    },
    {
      "cell_type": "code",
      "execution_count": 30,
      "metadata": {
        "id": "ck3mUBb2MJCp"
      },
      "outputs": [],
      "source": [
        "# Instantiate the classifier\n",
        "simple_rf_classifier = SimpleRandomForestClassifier(n_estimators=20, max_depth=10, min_samples_split=25)"
      ]
    },
    {
      "cell_type": "code",
      "execution_count": 31,
      "metadata": {
        "id": "ffizYo_TML_b",
        "colab": {
          "base_uri": "https://localhost:8080/"
        },
        "outputId": "8ba03598-79c8-44e4-8c39-e1a60e2e4de0"
      },
      "outputs": [
        {
          "output_type": "stream",
          "name": "stdout",
          "text": [
            "Starting Random Forest fitting...\n",
            "Fitting tree 1...\n",
            "Tree 1 fitted.\n",
            "Fitting tree 2...\n",
            "Tree 2 fitted.\n",
            "Fitting tree 3...\n",
            "Tree 3 fitted.\n",
            "Fitting tree 4...\n",
            "Tree 4 fitted.\n",
            "Fitting tree 5...\n",
            "Tree 5 fitted.\n",
            "Fitting tree 6...\n",
            "Tree 6 fitted.\n",
            "Fitting tree 7...\n",
            "Tree 7 fitted.\n",
            "Fitting tree 8...\n",
            "Tree 8 fitted.\n",
            "Fitting tree 9...\n",
            "Tree 9 fitted.\n",
            "Fitting tree 10...\n",
            "Tree 10 fitted.\n",
            "Fitting tree 11...\n",
            "Tree 11 fitted.\n",
            "Fitting tree 12...\n",
            "Tree 12 fitted.\n",
            "Fitting tree 13...\n",
            "Tree 13 fitted.\n",
            "Fitting tree 14...\n",
            "Tree 14 fitted.\n",
            "Fitting tree 15...\n",
            "Tree 15 fitted.\n",
            "Fitting tree 16...\n",
            "Tree 16 fitted.\n",
            "Fitting tree 17...\n",
            "Tree 17 fitted.\n",
            "Fitting tree 18...\n",
            "Tree 18 fitted.\n",
            "Fitting tree 19...\n",
            "Tree 19 fitted.\n",
            "Fitting tree 20...\n",
            "Tree 20 fitted.\n",
            "Random Forest fitting complete.\n"
          ]
        }
      ],
      "source": [
        "# Fit the model on the training data\n",
        "simple_rf_classifier.fit(X_train, y_train)\n"
      ]
    },
    {
      "cell_type": "code",
      "execution_count": 32,
      "metadata": {
        "id": "D-CHebh_OE8W",
        "colab": {
          "base_uri": "https://localhost:8080/"
        },
        "outputId": "fbe03f25-04e9-4f31-cc30-63bcc9a1526c"
      },
      "outputs": [
        {
          "output_type": "stream",
          "name": "stdout",
          "text": [
            "Predictions array:\n",
            "[[0. 0. 0. ... 3. 3. 3.]\n",
            " [3. 3. 3. ... 3. 3. 3.]\n",
            " [3. 3. 3. ... 3. 3. 3.]\n",
            " ...\n",
            " [2. 3. 2. ... 2. 0. 2.]\n",
            " [5. 5. 5. ... 5. 4. 4.]\n",
            " [3. 3. 3. ... 3. 3. 3.]]\n",
            "Random Forest Accuracy: 0.92\n",
            "Random Forest Classification Report:\n",
            "              precision    recall  f1-score   support\n",
            "\n",
            "           0       0.58      0.22      0.32       149\n",
            "           1       0.99      0.95      0.97       123\n",
            "           2       0.98      0.93      0.95       265\n",
            "           3       0.93      0.97      0.95      1398\n",
            "           4       0.92      0.97      0.94      1098\n",
            "           5       0.84      0.87      0.86        75\n",
            "\n",
            "    accuracy                           0.92      3108\n",
            "   macro avg       0.87      0.82      0.83      3108\n",
            "weighted avg       0.91      0.92      0.92      3108\n",
            "\n",
            "Random Forest Confusion Matrix:\n",
            "[[  33    1    6   51   46   12]\n",
            " [   6  117    0    0    0    0]\n",
            " [   5    0  246   14    0    0]\n",
            " [   6    0    0 1352   40    0]\n",
            " [   7    0    0   31 1060    0]\n",
            " [   0    0    0    0   10   65]]\n"
          ]
        }
      ],
      "source": [
        "# Make predictions on the test data\n",
        "rf_predictions = simple_rf_classifier.predict(X_test)\n",
        "\n",
        "# Evaluate the performance of the Random Forest classifier\n",
        "rf_accuracy = accuracy_score(y_test, rf_predictions)\n",
        "print(f'Random Forest Accuracy: {rf_accuracy:.2f}')\n",
        "\n",
        "# Display classification report\n",
        "print('Random Forest Classification Report:')\n",
        "print(classification_report(y_test, rf_predictions))\n",
        "\n",
        "# Display confusion matrix\n",
        "print('Random Forest Confusion Matrix:')\n",
        "print(confusion_matrix(y_test, rf_predictions))\n"
      ]
    },
    {
      "cell_type": "code",
      "source": [
        "from sklearn.metrics import r2_score, mean_absolute_error, mean_squared_error\n",
        "import time\n",
        "\n",
        "# Make predictions on the test data\n",
        "start_time = time.time()\n",
        "rf_predictions = simple_rf_classifier.predict(X_test)\n",
        "end_time = time.time()\n",
        "execution_time = end_time - start_time\n",
        "\n",
        "# Calculate R-Squared\n",
        "r_squared = r2_score(y_test, rf_predictions)\n",
        "\n",
        "# Calculate MAE\n",
        "mae = mean_absolute_error(y_test, rf_predictions)\n",
        "\n",
        "# Calculate MSE\n",
        "mse = mean_squared_error(y_test, rf_predictions)\n",
        "\n",
        "# Display results\n",
        "print(f'R-Squared: {r_squared:.2f}')\n",
        "print(f'MAE: {mae:.2f}')\n",
        "print(f'MSE: {mse:.2f}')\n",
        "print(f'Execution Time: {execution_time:.2f} seconds')"
      ],
      "metadata": {
        "colab": {
          "base_uri": "https://localhost:8080/"
        },
        "id": "6YbIAx4gAOlj",
        "outputId": "5e43839b-c216-4d01-ac0c-594f5b5ab886"
      },
      "execution_count": 36,
      "outputs": [
        {
          "output_type": "stream",
          "name": "stdout",
          "text": [
            "Predictions array:\n",
            "[[0. 0. 0. ... 3. 3. 3.]\n",
            " [3. 3. 3. ... 3. 3. 3.]\n",
            " [3. 3. 3. ... 3. 3. 3.]\n",
            " ...\n",
            " [2. 3. 2. ... 2. 0. 2.]\n",
            " [5. 5. 5. ... 5. 4. 4.]\n",
            " [3. 3. 3. ... 3. 3. 3.]]\n",
            "R-Squared: 0.48\n",
            "MAE: 0.18\n",
            "MSE: 0.58\n",
            "Execution Time: 8.44 seconds\n"
          ]
        }
      ]
    },
    {
      "cell_type": "code",
      "source": [
        "from sklearn.metrics import r2_score, mean_absolute_error, mean_squared_error\n",
        "import time\n",
        "\n",
        "# Make predictions on the test data\n",
        "start_time = time.time()\n",
        "rf_decision =  simple_tree_classifier.predict(X_test)\n",
        "end_time = time.time()\n",
        "execution_time = end_time - start_time\n",
        "\n",
        "# Calculate R-Squared\n",
        "r_squared = r2_score(y_test, rf_decision)\n",
        "\n",
        "# Calculate MAE\n",
        "mae = mean_absolute_error(y_test, rf_decision)\n",
        "\n",
        "# Calculate MSE\n",
        "mse = mean_squared_error(y_test, rf_decision)\n",
        "\n",
        "# Display results\n",
        "print(f'R-Squared: {r_squared:.2f}')\n",
        "print(f'MAE: {mae:.2f}')\n",
        "print(f'MSE: {mse:.2f}')\n",
        "print(f'Execution Time: {execution_time:.2f} seconds')"
      ],
      "metadata": {
        "colab": {
          "base_uri": "https://localhost:8080/"
        },
        "id": "CCsZkZfXpziS",
        "outputId": "5e343210-ab22-4e93-8eae-415c89095a7e"
      },
      "execution_count": 39,
      "outputs": [
        {
          "output_type": "stream",
          "name": "stdout",
          "text": [
            "R-Squared: 0.42\n",
            "MAE: 0.21\n",
            "MSE: 0.65\n",
            "Execution Time: 0.74 seconds\n"
          ]
        }
      ]
    },
    {
      "cell_type": "code",
      "source": [
        "# Plot actual vs predicted values\n",
        "plt.figure(figsize=(10, 6))\n",
        "plt.scatter(y_test, rf_decision, color='blue', label='Actual vs Predicted')\n",
        "plt.plot([min(y_test), max(y_test)], [min(y_test), max(y_test)], color='red', linestyle='--', label='Perfect Prediction')\n",
        "plt.title('Actual vs Predicted Values (Random Forest)')\n",
        "plt.xlabel('Actual Values')\n",
        "plt.ylabel('Predicted Values')\n",
        "plt.legend()\n",
        "plt.grid(True)\n",
        "plt.show()"
      ],
      "metadata": {
        "colab": {
          "base_uri": "https://localhost:8080/",
          "height": 564
        },
        "id": "qOPCTzQdqW4x",
        "outputId": "fe37ea2a-c348-4a87-e194-be9df5ec210b"
      },
      "execution_count": 40,
      "outputs": [
        {
          "output_type": "display_data",
          "data": {
            "text/plain": [
              "<Figure size 1000x600 with 1 Axes>"
            ],
            "image/png": "[encoded data removed]"
          },
          "metadata": {}
        }
      ]
    },
    {
      "cell_type": "code",
      "source": [
        "# Plot actual vs predicted values\n",
        "plt.figure(figsize=(10, 6))\n",
        "plt.scatter(y_test, rf_predictions, color='blue', label='Actual vs Predicted')\n",
        "plt.plot([min(y_test), max(y_test)], [min(y_test), max(y_test)], color='red', linestyle='--', label='Perfect Prediction')\n",
        "plt.title('Actual vs Predicted Values (Random Forest)')\n",
        "plt.xlabel('Actual Values')\n",
        "plt.ylabel('Predicted Values')\n",
        "plt.legend()\n",
        "plt.grid(True)\n",
        "plt.show()"
      ],
      "metadata": {
        "colab": {
          "base_uri": "https://localhost:8080/",
          "height": 564
        },
        "id": "ECBuSy4XiQOv",
        "outputId": "6af1028f-fad5-4c15-df86-5a6590ad89bc"
      },
      "execution_count": 37,
      "outputs": [
        {
          "output_type": "display_data",
          "data": {
            "text/plain": [
              "<Figure size 1000x600 with 1 Axes>"
            ],
            "image/png": "[encoded data removed]"
          },
          "metadata": {}
        }
      ]
    },
    {
      "cell_type": "code",
      "execution_count": null,
      "metadata": {
        "id": "9chtg30chpSH"
      },
      "outputs": [],
      "source": [
        "import pickle\n",
        "with open('model.pkl', 'wb') as f:\n",
        "    pickle.dump(rf_predictions, f)"
      ]
    },
    {
      "cell_type": "code",
      "execution_count": null,
      "metadata": {
        "id": "30Tmt4X40rec"
      },
      "outputs": [],
      "source": [
        "import pickle\n",
        "from keras.models import Sequential\n",
        "from keras.models import load_model\n",
        "\n",
        "# Step 1: Load the Pickle Model\n",
        "with open('model.pkl', 'rb') as f:\n",
        "    model = pickle.load(f)\n",
        "\n",
        "# Step 2: Convert to Keras Model\n",
        "keras_model = Sequential()\n",
        "\n",
        "\n",
        "# Step 3: Export to HDF5(keras) Format\n",
        "keras_model.save('mymodel.keras')"
      ]
    },
    {
      "cell_type": "code",
      "execution_count": null,
      "metadata": {
        "id": "hsfeIXcH02Cm"
      },
      "outputs": [],
      "source": [
        "\n"
      ]
    },
    {
      "cell_type": "code",
      "execution_count": null,
      "metadata": {
        "id": "r0HoRxg206YQ"
      },
      "outputs": [],
      "source": [
        "\n",
        "\n"
      ]
    },
    {
      "cell_type": "code",
      "execution_count": null,
      "metadata": {
        "id": "AvmOBVaZ1AFm"
      },
      "outputs": [],
      "source": []
    }
  ],
  "metadata": {
    "colab": {
      "provenance": []
    },
    "kernelspec": {
      "display_name": "Python 3",
      "name": "python3"
    },
    "language_info": {
      "name": "python"
    }
  },
  "nbformat": 4,
  "nbformat_minor": 0
}